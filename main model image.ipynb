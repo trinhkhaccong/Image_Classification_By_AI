{
 "cells": [
  {
   "cell_type": "code",
   "execution_count": 65,
   "metadata": {},
   "outputs": [],
   "source": [
    "from PIL import Image\n",
    "from numpy import*\n",
    "import numpy as np\n",
    "import matplotlib.pyplot as plt\n",
    "from keras.models import Sequential\n",
    "from keras.layers import Dense, Dropout, Activation, Flatten\n",
    "from keras.layers import Conv2D, MaxPooling2D\n",
    "from keras.utils import np_utils\n",
    "from keras.datasets import mnist\n",
    "from sklearn.model_selection import train_test_split\n",
    "import imageio\n",
    "import glob\n",
    "from keras.callbacks import Callback, ModelCheckpoint, EarlyStopping\n",
    "from keras.models import Model\n",
    "from keras.layers import Dense, Dropout, Conv2D, MaxPool2D, Flatten"
   ]
  },
  {
   "cell_type": "code",
   "execution_count": 66,
   "metadata": {},
   "outputs": [],
   "source": [
    "def get_image():\n",
    "    import imageio\n",
    "    sequence_folder_0 = glob.glob('./cv_img_len/*.*')\n",
    "    array_image=[]\n",
    "    binary=[]\n",
    "    for path in sequence_folder_0:\n",
    "        im = imageio.imread(path)\n",
    "        array = np.zeros((60,100,3))\n",
    "        temp=im\n",
    "        array[:temp.shape[0],:temp.shape[1],:temp.shape[2]] = temp\n",
    "        array_image.append(array)\n",
    "        binary.append([1.,0.])\n",
    "     \n",
    "    sequence_folder_1 = glob.glob('./cv_img_xuong/*.*')\n",
    "    for path in sequence_folder_1:\n",
    "        im = imageio.imread(path)\n",
    "        array = np.zeros((60,100,3))\n",
    "        temp=im\n",
    "        array[:temp.shape[0],:temp.shape[1],:temp.shape[2]] = temp\n",
    "        array_image.append(array)\n",
    "        binary.append([0.,1.])\n",
    "        \n",
    "    return np.array(array_image),binary\n",
    "    \n"
   ]
  },
  {
   "cell_type": "code",
   "execution_count": 67,
   "metadata": {},
   "outputs": [],
   "source": [
    "array_image,binary=get_image()"
   ]
  },
  {
   "cell_type": "code",
   "execution_count": 68,
   "metadata": {},
   "outputs": [
    {
     "data": {
      "text/plain": [
       "(495, 60, 100, 3)"
      ]
     },
     "execution_count": 68,
     "metadata": {},
     "output_type": "execute_result"
    }
   ],
   "source": [
    "array_image.shape"
   ]
  },
  {
   "cell_type": "code",
   "execution_count": 69,
   "metadata": {},
   "outputs": [
    {
     "data": {
      "text/plain": [
       "array([1., 0.])"
      ]
     },
     "execution_count": 69,
     "metadata": {},
     "output_type": "execute_result"
    }
   ],
   "source": [
    "binary = np.asarray(binary)\n",
    "binary[0]"
   ]
  },
  {
   "cell_type": "code",
   "execution_count": 70,
   "metadata": {},
   "outputs": [],
   "source": [
    "X_train, X_val, y_train, y_val = train_test_split(array_image, binary, test_size=0.1, random_state=20)"
   ]
  },
  {
   "cell_type": "code",
   "execution_count": 87,
   "metadata": {},
   "outputs": [
    {
     "name": "stdout",
     "output_type": "stream",
     "text": [
      "Dữ liệu y ban đầu  [1. 0.]\n",
      "Dữ liệu y sau one-hot encoding  [1. 0.]\n"
     ]
    }
   ],
   "source": [
    "X_train = X_train.reshape(X_train.shape[0], 60, 100, 3)\n",
    "X_val = X_val.reshape(X_val.shape[0], 60, 100, 3)\n",
    "# 4. One hot encoding label (Y)\n",
    "Y_train = y_train\n",
    "Y_val = y_val\n",
    "print('Dữ liệu y ban đầu ', y_train[0])\n",
    "print('Dữ liệu y sau one-hot encoding ',Y_train[0])\n"
   ]
  },
  {
   "cell_type": "code",
   "execution_count": 92,
   "metadata": {},
   "outputs": [
    {
     "name": "stdout",
     "output_type": "stream",
     "text": [
      "Model: \"sequential_10\"\n",
      "_________________________________________________________________\n",
      "Layer (type)                 Output Shape              Param #   \n",
      "=================================================================\n",
      "conv2d_29 (Conv2D)           (None, 60, 100, 50)       1400      \n",
      "_________________________________________________________________\n",
      "conv2d_30 (Conv2D)           (None, 60, 100, 75)       33825     \n",
      "_________________________________________________________________\n",
      "max_pooling2d_17 (MaxPooling (None, 30, 50, 75)        0         \n",
      "_________________________________________________________________\n",
      "dropout_32 (Dropout)         (None, 30, 50, 75)        0         \n",
      "_________________________________________________________________\n",
      "conv2d_31 (Conv2D)           (None, 30, 50, 125)       84500     \n",
      "_________________________________________________________________\n",
      "max_pooling2d_18 (MaxPooling (None, 15, 25, 125)       0         \n",
      "_________________________________________________________________\n",
      "dropout_33 (Dropout)         (None, 15, 25, 125)       0         \n",
      "_________________________________________________________________\n",
      "flatten_9 (Flatten)          (None, 46875)             0         \n",
      "_________________________________________________________________\n",
      "dense_26 (Dense)             (None, 500)               23438000  \n",
      "_________________________________________________________________\n",
      "dropout_34 (Dropout)         (None, 500)               0         \n",
      "_________________________________________________________________\n",
      "dense_27 (Dense)             (None, 250)               125250    \n",
      "_________________________________________________________________\n",
      "dropout_35 (Dropout)         (None, 250)               0         \n",
      "_________________________________________________________________\n",
      "dense_28 (Dense)             (None, 2)                 502       \n",
      "=================================================================\n",
      "Total params: 23,683,477\n",
      "Trainable params: 23,683,477\n",
      "Non-trainable params: 0\n",
      "_________________________________________________________________\n",
      "None\n"
     ]
    }
   ],
   "source": [
    "model = Sequential()\n",
    "model.add(Conv2D(50, kernel_size=(3,3), strides=(1,1), padding='same', activation='relu', input_shape=(60, 100, 3)))\n",
    "\n",
    "# convolutional layer\n",
    "model.add(Conv2D(75, kernel_size=(3,3), strides=(1,1), padding='same', activation='relu'))\n",
    "model.add(MaxPool2D(pool_size=(2,2)))\n",
    "model.add(Dropout(0.25))\n",
    "\n",
    "model.add(Conv2D(125, kernel_size=(3,3), strides=(1,1), padding='same', activation='relu'))\n",
    "model.add(MaxPool2D(pool_size=(2,2)))\n",
    "model.add(Dropout(0.25))\n",
    "\n",
    "# flatten output of conv\n",
    "model.add(Flatten())\n",
    "\n",
    "# hidden layer\n",
    "model.add(Dense(500, activation='relu'))\n",
    "model.add(Dropout(0.4))\n",
    "model.add(Dense(250, activation='relu'))\n",
    "model.add(Dropout(0.3))\n",
    "# output layer\n",
    "model.add(Dense(2, activation='softmax'))\n",
    "\n",
    "# compiling the sequential model\n",
    "model.compile(loss='categorical_crossentropy', metrics=['accuracy'], optimizer='adam')\n",
    "print(model.summary())"
   ]
  },
  {
   "cell_type": "code",
   "execution_count": 93,
   "metadata": {},
   "outputs": [
    {
     "name": "stdout",
     "output_type": "stream",
     "text": [
      "Epoch 1/10\n",
      "149/149 [==============================] - 68s 458ms/step - loss: 0.5768 - accuracy: 0.7236 - val_loss: 0.2636 - val_accuracy: 0.9600\n",
      "Epoch 2/10\n",
      "149/149 [==============================] - 69s 460ms/step - loss: 0.3023 - accuracy: 0.9056 - val_loss: 0.2391 - val_accuracy: 0.9600\n",
      "Epoch 3/10\n",
      "149/149 [==============================] - 71s 473ms/step - loss: 0.2702 - accuracy: 0.9169 - val_loss: 0.2464 - val_accuracy: 0.9600\n",
      "Epoch 00003: early stopping\n"
     ]
    }
   ],
   "source": [
    "es = EarlyStopping(monitor='val_loss', mode='min', verbose=1)\n",
    "history = model.fit(X_train, Y_train, validation_data=(X_val, Y_val), epochs=10,\n",
    "            verbose=1,batch_size=3,callbacks=[es])"
   ]
  },
  {
   "cell_type": "code",
   "execution_count": 94,
   "metadata": {},
   "outputs": [
    {
     "name": "stdout",
     "output_type": "stream",
     "text": [
      "INFO:tensorflow:Assets written to: image_binary.ctk/assets\n"
     ]
    }
   ],
   "source": [
    "from keras.models import load_model\n",
    "model.save('image_binary.ctk')"
   ]
  },
  {
   "cell_type": "code",
   "execution_count": 95,
   "metadata": {},
   "outputs": [
    {
     "data": {
      "text/plain": [
       "array([[1.36548564e-01, 8.63451481e-01],\n",
       "       [9.95858014e-01, 4.14203433e-03],\n",
       "       [6.94594710e-05, 9.99930501e-01],\n",
       "       [6.52011065e-03, 9.93479848e-01],\n",
       "       [9.04357433e-01, 9.56425443e-02],\n",
       "       [9.71152246e-01, 2.88477596e-02],\n",
       "       [9.14607406e-01, 8.53926167e-02],\n",
       "       [5.49416382e-06, 9.99994516e-01],\n",
       "       [8.59090686e-01, 1.40909329e-01],\n",
       "       [4.79732640e-04, 9.99520302e-01],\n",
       "       [9.21016991e-01, 7.89829642e-02],\n",
       "       [7.90465295e-01, 2.09534749e-01],\n",
       "       [9.29182187e-13, 1.00000000e+00],\n",
       "       [9.78444040e-01, 2.15559155e-02],\n",
       "       [9.16034579e-01, 8.39653984e-02],\n",
       "       [9.66499209e-01, 3.35008018e-02],\n",
       "       [9.45028603e-01, 5.49714044e-02],\n",
       "       [9.83122170e-01, 1.68778598e-02],\n",
       "       [2.03769580e-02, 9.79623020e-01],\n",
       "       [1.83790410e-03, 9.98162091e-01],\n",
       "       [2.03889882e-04, 9.99796093e-01],\n",
       "       [6.03515562e-03, 9.93964851e-01],\n",
       "       [7.73806940e-04, 9.99226213e-01],\n",
       "       [9.86651540e-01, 1.33484378e-02],\n",
       "       [8.77926171e-01, 1.22073852e-01],\n",
       "       [8.03112146e-03, 9.91968930e-01],\n",
       "       [2.47715153e-02, 9.75228429e-01],\n",
       "       [1.43327527e-02, 9.85667288e-01],\n",
       "       [9.75978255e-01, 2.40217838e-02],\n",
       "       [9.00498092e-01, 9.95019302e-02],\n",
       "       [2.86867398e-05, 9.99971271e-01],\n",
       "       [9.93199170e-01, 6.80080894e-03],\n",
       "       [9.87296700e-01, 1.27033284e-02],\n",
       "       [5.37939146e-02, 9.46206093e-01],\n",
       "       [4.13501635e-03, 9.95864987e-01],\n",
       "       [9.84487474e-01, 1.55125819e-02],\n",
       "       [8.16248775e-01, 1.83751225e-01],\n",
       "       [9.64143515e-01, 3.58564705e-02],\n",
       "       [2.16621354e-01, 7.83378661e-01],\n",
       "       [9.33641076e-01, 6.63589463e-02],\n",
       "       [6.46789491e-01, 3.53210509e-01],\n",
       "       [2.02770298e-05, 9.99979734e-01],\n",
       "       [9.51484621e-01, 4.85154353e-02],\n",
       "       [9.80107963e-01, 1.98919736e-02],\n",
       "       [8.96366477e-01, 1.03633486e-01],\n",
       "       [6.32418014e-05, 9.99936700e-01],\n",
       "       [9.41914439e-01, 5.80855310e-02],\n",
       "       [9.02474344e-01, 9.75257009e-02],\n",
       "       [8.97292674e-01, 1.02707282e-01],\n",
       "       [6.52800128e-03, 9.93471980e-01]], dtype=float32)"
      ]
     },
     "execution_count": 95,
     "metadata": {},
     "output_type": "execute_result"
    }
   ],
   "source": [
    "y_sample = model.predict(X_val)\n",
    "y_sample"
   ]
  },
  {
   "cell_type": "code",
   "execution_count": null,
   "metadata": {},
   "outputs": [],
   "source": []
  }
 ],
 "metadata": {
  "kernelspec": {
   "display_name": "Python 3",
   "language": "python",
   "name": "python3"
  },
  "language_info": {
   "codemirror_mode": {
    "name": "ipython",
    "version": 3
   },
   "file_extension": ".py",
   "mimetype": "text/x-python",
   "name": "python",
   "nbconvert_exporter": "python",
   "pygments_lexer": "ipython3",
   "version": "3.8.3"
  }
 },
 "nbformat": 4,
 "nbformat_minor": 4
}
