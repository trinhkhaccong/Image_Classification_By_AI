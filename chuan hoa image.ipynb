{
 "cells": [
  {
   "cell_type": "code",
   "execution_count": 1,
   "metadata": {},
   "outputs": [],
   "source": [
    "def cv_image_color(path,link_save):\n",
    "    import cv2\n",
    "    import matplotlib.pyplot as plt\n",
    "    import numpy as np\n",
    "    nemo = cv2.imread(path)\n",
    "    nemo = cv2.cvtColor(nemo, cv2.COLOR_BGR2RGB)\n",
    "    light_orange = (237,69,69)\n",
    "    dark_orange = (255,255,255)\n",
    "    mask = cv2.inRange(nemo, light_orange, dark_orange)\n",
    "\n",
    "    light_orange = (0, 219, 124)\n",
    "    dark_orange = (255,255,255)\n",
    "    mask2 = cv2.inRange(nemo, light_orange, dark_orange)\n",
    "    result2 = cv2.bitwise_and(nemo, nemo, mask=mask2)\n",
    "\n",
    "    final_mask = mask + mask2\n",
    "    final_result = cv2.bitwise_and(nemo, nemo, mask=final_mask)\n",
    "    cv2.imwrite(link_save, final_result)\n",
    "    height, width, channels = final_result.shape\n",
    "    return height, width"
   ]
  },
  {
   "cell_type": "code",
   "execution_count": 2,
   "metadata": {},
   "outputs": [],
   "source": [
    "from PIL import Image\n",
    "import glob\n",
    "\n",
    "sequence_folder = glob.glob('./image_len/*.*')\n",
    "count=0\n",
    "for path in sequence_folder:\n",
    "    count+=1\n",
    "    height, width =  cv_image_color(path,\"./cv_img_len/\"+str(count)+\".png\")\n",
    "    img = Image.open(\"./cv_img_len/\"+str(count)+\".png\") # image extension *.png,*.jpg\n",
    "    new_width  = round(width/10)\n",
    "    new_height = round(height/10)\n",
    "    img = img.resize((new_width, new_height), Image.ANTIALIAS)\n",
    "    img.save(\"./cv_img_len/\"+str(count)+\".png\")"
   ]
  },
  {
   "cell_type": "code",
   "execution_count": 3,
   "metadata": {},
   "outputs": [],
   "source": [
    "from PIL import Image\n",
    "import glob\n",
    "\n",
    "sequence_folder = glob.glob('./image_xuong/*.*')\n",
    "count=0\n",
    "for path in sequence_folder:\n",
    "    count+=1\n",
    "    height, width =  cv_image_color(path,\"./cv_img_xuong/\"+str(count)+\".png\")\n",
    "    img = Image.open(\"./cv_img_xuong/\"+str(count)+\".png\") # image extension *.png,*.jpg\n",
    "    new_width  = round(width/10)\n",
    "    new_height = round(height/10)\n",
    "    img = img.resize((new_width, new_height), Image.ANTIALIAS)\n",
    "    img.save(\"./cv_img_xuong/\"+str(count)+\".png\")"
   ]
  },
  {
   "cell_type": "code",
   "execution_count": 4,
   "metadata": {},
   "outputs": [
    {
     "data": {
      "text/plain": [
       "(50, 80, 3)"
      ]
     },
     "execution_count": 4,
     "metadata": {},
     "output_type": "execute_result"
    }
   ],
   "source": [
    "import imageio\n",
    "im = imageio.imread('./cv_img_len/130.png')\n",
    "im.shape  # im is a numpy array"
   ]
  },
  {
   "cell_type": "code",
   "execution_count": 9,
   "metadata": {},
   "outputs": [
    {
     "name": "stdout",
     "output_type": "stream",
     "text": [
      "(53, 82)\n"
     ]
    },
    {
     "data": {
      "image/png": "[encoded data removed]",
      "text/plain": [
       "<Figure size 360x360 with 1 Axes>"
      ]
     },
     "metadata": {
      "needs_background": "light"
     },
     "output_type": "display_data"
    }
   ],
   "source": [
    "import imageio\n",
    "import matplotlib.pyplot as plt\n",
    "%matplotlib inline\n",
    "import numpy as np\n",
    "pic = imageio.imread('./cv_img_xuong/10.png')\n",
    " \n",
    "gray = lambda rgb : np.dot(rgb[... , :3] , [0.21 , 0.72, 0.07]) \n",
    "gray = gray(pic)  \n",
    "print(gray.shape)\n",
    "plt.figure( figsize = (5,5))\n",
    "plt.imshow(pic)\n",
    "plt.show()"
   ]
  },
  {
   "cell_type": "code",
   "execution_count": null,
   "metadata": {},
   "outputs": [],
   "source": []
  },
  {
   "cell_type": "code",
   "execution_count": null,
   "metadata": {},
   "outputs": [],
   "source": []
  }
 ],
 "metadata": {
  "kernelspec": {
   "display_name": "Python 3",
   "language": "python",
   "name": "python3"
  },
  "language_info": {
   "codemirror_mode": {
    "name": "ipython",
    "version": 3
   },
   "file_extension": ".py",
   "mimetype": "text/x-python",
   "name": "python",
   "nbconvert_exporter": "python",
   "pygments_lexer": "ipython3",
   "version": "3.8.3"
  }
 },
 "nbformat": 4,
 "nbformat_minor": 4
}
