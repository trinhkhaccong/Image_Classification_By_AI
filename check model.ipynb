{
 "cells": [
  {
   "cell_type": "code",
   "execution_count": 2,
   "metadata": {},
   "outputs": [],
   "source": [
    "from PIL import Image\n",
    "from numpy import*\n",
    "import numpy as np\n",
    "import matplotlib.pyplot as plt\n",
    "from keras.models import Sequential\n",
    "from keras.layers import Dense, Dropout, Activation, Flatten\n",
    "from keras.layers import Conv2D, MaxPooling2D\n",
    "from keras.utils import np_utils\n",
    "from keras.datasets import mnist\n",
    "from sklearn.model_selection import train_test_split\n",
    "import imageio\n",
    "import glob\n",
    "from keras.callbacks import Callback, ModelCheckpoint, EarlyStopping\n",
    "from keras.models import Model\n"
   ]
  },
  {
   "cell_type": "code",
   "execution_count": 3,
   "metadata": {},
   "outputs": [],
   "source": [
    "from keras.models import load_model\n",
    "model_load = load_model('image_binary.ctk')"
   ]
  },
  {
   "cell_type": "code",
   "execution_count": 4,
   "metadata": {},
   "outputs": [],
   "source": [
    "def cv_image_color(path,link_save):\n",
    "    import cv2\n",
    "    import matplotlib.pyplot as plt\n",
    "    import numpy as np\n",
    "    nemo = cv2.imread(path)\n",
    "    nemo = cv2.cvtColor(nemo, cv2.COLOR_BGR2RGB)\n",
    "    light_orange = (237,69,69)\n",
    "    dark_orange = (255,255,255)\n",
    "    mask = cv2.inRange(nemo, light_orange, dark_orange)\n",
    "\n",
    "    light_orange = (0, 219, 124)\n",
    "    dark_orange = (255,255,255)\n",
    "    mask2 = cv2.inRange(nemo, light_orange, dark_orange)\n",
    "    result2 = cv2.bitwise_and(nemo, nemo, mask=mask2)\n",
    "\n",
    "    final_mask = mask + mask2\n",
    "    final_result = cv2.bitwise_and(nemo, nemo, mask=final_mask)\n",
    "    cv2.imwrite(link_save, final_result)\n",
    "    height, width, channels = final_result.shape\n",
    "    return height, width"
   ]
  },
  {
   "cell_type": "code",
   "execution_count": 38,
   "metadata": {},
   "outputs": [],
   "source": [
    "height, width =  cv_image_color(\"./test/1.png\",\"./cv_test/1.png\")\n",
    "img = Image.open('./cv_test/1.png') # image extension *.png,*.jpg\n",
    "new_width  = round(width/10)\n",
    "new_height = round(height/10)\n",
    "img = img.resize((new_width, new_height), Image.ANTIALIAS)\n",
    "img.save(\"./cv_test/1.png\")"
   ]
  },
  {
   "cell_type": "code",
   "execution_count": 5,
   "metadata": {},
   "outputs": [
    {
     "data": {
      "text/plain": [
       "(24, 60, 100, 3)"
      ]
     },
     "execution_count": 5,
     "metadata": {},
     "output_type": "execute_result"
    }
   ],
   "source": [
    "import glob\n",
    "list_forder = glob.glob(\"./cv_test/*.png\")\n",
    "array_image=[]\n",
    "for path in list_forder:\n",
    "    im = imageio.imread(path)\n",
    "    array = np.zeros((60,100,3))\n",
    "    temp=im\n",
    "    array[:temp.shape[0],:temp.shape[1],:temp.shape[2]] = temp \n",
    "    array_image.append(array)\n",
    "X_train = np.array(array_image)\n",
    "X_train.shape"
   ]
  },
  {
   "cell_type": "code",
   "execution_count": 6,
   "metadata": {},
   "outputs": [
    {
     "data": {
      "text/plain": [
       "array([[0.0000000e+00, 1.0000000e+00],\n",
       "       [0.0000000e+00, 1.0000000e+00],\n",
       "       [1.0000000e+00, 0.0000000e+00],\n",
       "       [1.0000000e+00, 0.0000000e+00],\n",
       "       [1.0000000e+00, 0.0000000e+00],\n",
       "       [0.0000000e+00, 1.0000000e+00],\n",
       "       [1.0000000e+00, 0.0000000e+00],\n",
       "       [1.0000000e+00, 0.0000000e+00],\n",
       "       [0.0000000e+00, 1.0000000e+00],\n",
       "       [1.0000000e+00, 0.0000000e+00],\n",
       "       [1.0000000e+00, 0.0000000e+00],\n",
       "       [4.7253176e-33, 1.0000000e+00],\n",
       "       [1.0000000e+00, 1.1242028e-15],\n",
       "       [1.0000000e+00, 0.0000000e+00],\n",
       "       [1.0000000e+00, 0.0000000e+00],\n",
       "       [1.0000000e+00, 0.0000000e+00],\n",
       "       [1.0000000e+00, 0.0000000e+00],\n",
       "       [0.0000000e+00, 1.0000000e+00],\n",
       "       [1.0000000e+00, 0.0000000e+00],\n",
       "       [1.0000000e+00, 0.0000000e+00],\n",
       "       [1.0000000e+00, 0.0000000e+00],\n",
       "       [1.0000000e+00, 0.0000000e+00],\n",
       "       [1.0000000e+00, 0.0000000e+00],\n",
       "       [1.0000000e+00, 0.0000000e+00]], dtype=float32)"
      ]
     },
     "execution_count": 6,
     "metadata": {},
     "output_type": "execute_result"
    }
   ],
   "source": [
    "y_sample = model_load.predict(X_train)\n",
    "y_sample"
   ]
  },
  {
   "cell_type": "code",
   "execution_count": null,
   "metadata": {},
   "outputs": [],
   "source": []
  }
 ],
 "metadata": {
  "kernelspec": {
   "display_name": "Python 3",
   "language": "python",
   "name": "python3"
  },
  "language_info": {
   "codemirror_mode": {
    "name": "ipython",
    "version": 3
   },
   "file_extension": ".py",
   "mimetype": "text/x-python",
   "name": "python",
   "nbconvert_exporter": "python",
   "pygments_lexer": "ipython3",
   "version": "3.8.3"
  }
 },
 "nbformat": 4,
 "nbformat_minor": 4
}
